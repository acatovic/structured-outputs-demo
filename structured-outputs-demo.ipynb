{
 "cells": [
  {
   "cell_type": "code",
   "execution_count": 28,
   "metadata": {},
   "outputs": [],
   "source": [
    "import os\n",
    "from openai import OpenAI\n",
    "from pydantic import BaseModel"
   ]
  },
  {
   "cell_type": "code",
   "execution_count": 30,
   "metadata": {},
   "outputs": [],
   "source": [
    "# make sure we have API key setup\n",
    "\n",
    "assert os.environ[\"OPENAI_API_KEY\"]"
   ]
  },
  {
   "cell_type": "code",
   "execution_count": 41,
   "metadata": {},
   "outputs": [],
   "source": [
    "client = OpenAI(\n",
    "    api_key=os.environ[\"OPENAI_API_KEY\"]\n",
    ")"
   ]
  },
  {
   "cell_type": "code",
   "execution_count": 32,
   "metadata": {},
   "outputs": [
    {
     "name": "stdout",
     "output_type": "stream",
     "text": [
      "\n",
      "Samuel Harris Altman (born April 22, 1985) is an American entrepreneur \n",
      "and investor best known as the CEO of OpenAI since 2019 (he was briefly \n",
      "fired and reinstated in November 2023).\n",
      "\n"
     ]
    }
   ],
   "source": [
    "s = \"\"\"\n",
    "Samuel Harris Altman (born April 22, 1985) is an American entrepreneur \n",
    "and investor best known as the CEO of OpenAI since 2019 (he was briefly \n",
    "fired and reinstated in November 2023).\n",
    "\"\"\"\n",
    "\n",
    "print(s)"
   ]
  },
  {
   "cell_type": "code",
   "execution_count": 42,
   "metadata": {},
   "outputs": [
    {
     "name": "stdout",
     "output_type": "stream",
     "text": [
      "{'name': 'NamedEntities', 'schema': {'type': 'object', 'properties': {'entities': {'type': 'array', 'description': 'List of entity names and their corresponding types', 'items': {'type': 'object', 'properties': {'name': {'type': 'string', 'description': \"The actual name as specified in the text, e.g. a person's name, or the name of the country\"}, 'type': {'type': 'string', 'description': \"The entity type, such as 'Person' or 'Organization'\", 'enum': ['Person', 'Organization', 'Location', 'DateTime']}}, 'required': ['name', 'type'], 'additionalProperties': False}}}, 'required': ['entities'], 'additionalProperties': False}, 'strict': True}\n"
     ]
    }
   ],
   "source": [
    "json_schema = {\n",
    "    \"name\": \"NamedEntities\",\n",
    "    \"schema\": {\n",
    "        \"type\": \"object\",\n",
    "        \"properties\": {\n",
    "            \"entities\": {\n",
    "                \"type\": \"array\",\n",
    "                \"description\": \"List of entity names and their corresponding types\",\n",
    "                \"items\": {\n",
    "                    \"type\": \"object\",\n",
    "                    \"properties\": {\n",
    "                        \"name\": {\n",
    "                            \"type\": \"string\",\n",
    "                            \"description\": \"The actual name as specified in the text, e.g. a person's name, or the name of the country\"\n",
    "                        },\n",
    "                        \"type\": {\n",
    "                            \"type\": \"string\",\n",
    "                            \"description\": \"The entity type, such as 'Person' or 'Organization'\",\n",
    "                            \"enum\": [\"Person\", \"Organization\", \"Location\", \"DateTime\"]\n",
    "                        }\n",
    "                    },\n",
    "                    \"required\": [\"name\", \"type\"],\n",
    "                    \"additionalProperties\": False\n",
    "                }\n",
    "            }\n",
    "        },\n",
    "        \"required\": [\"entities\"],\n",
    "        \"additionalProperties\": False\n",
    "    },\n",
    "    \"strict\": True\n",
    "}\n",
    "\n",
    "print(json_schema)"
   ]
  },
  {
   "cell_type": "code",
   "execution_count": 43,
   "metadata": {},
   "outputs": [],
   "source": [
    "completion = client.beta.chat.completions.parse(\n",
    "    model=\"gpt-4o-2024-08-06\",\n",
    "    messages=[\n",
    "        {\n",
    "            \"role\": \"system\",\n",
    "            \"content\": \"\"\"You are a Named Entity Recognition (NER) system.\n",
    "                Your job is to identify and return all entity names and their \n",
    "                types for a given piece of text. You are to strictly conform\n",
    "                only to the following entity types: Person, Location, Organization\n",
    "                and DateTime. If uncertain about entity type, please ignore it.\"\"\",\n",
    "        },\n",
    "        {\n",
    "            \"role\": \"user\",\n",
    "            \"content\": s\n",
    "        }\n",
    "    ],\n",
    "    response_format={\n",
    "        \"type\": \"json_schema\",\n",
    "        \"json_schema\": json_schema,\n",
    "    }\n",
    ")"
   ]
  },
  {
   "cell_type": "code",
   "execution_count": 44,
   "metadata": {},
   "outputs": [
    {
     "name": "stdout",
     "output_type": "stream",
     "text": [
      "{\"entities\":[{\"name\":\"Samuel Harris Altman\",\"type\":\"Person\"},{\"name\":\"April 22, 1985\",\"type\":\"DateTime\"},{\"name\":\"American\",\"type\":\"Location\"},{\"name\":\"entrepreneur\",\"type\":\"Organization\"},{\"name\":\"investor\",\"type\":\"Organization\"},{\"name\":\"CEO\",\"type\":\"Organization\"},{\"name\":\"OpenAI\",\"type\":\"Organization\"},{\"name\":\"2019\",\"type\":\"DateTime\"},{\"name\":\"November 2023\",\"type\":\"DateTime\"}]}\n"
     ]
    }
   ],
   "source": [
    "print(completion.choices[0].message.content)"
   ]
  },
  {
   "cell_type": "code",
   "execution_count": 49,
   "metadata": {},
   "outputs": [],
   "source": [
    "import pprint\n",
    "import json"
   ]
  },
  {
   "cell_type": "code",
   "execution_count": 51,
   "metadata": {},
   "outputs": [
    {
     "name": "stdout",
     "output_type": "stream",
     "text": [
      "{   'entities': [   {'name': 'Samuel Harris Altman', 'type': 'Person'},\n",
      "                    {'name': 'April 22, 1985', 'type': 'DateTime'},\n",
      "                    {'name': 'American', 'type': 'Location'},\n",
      "                    {'name': 'entrepreneur', 'type': 'Organization'},\n",
      "                    {'name': 'investor', 'type': 'Organization'},\n",
      "                    {'name': 'CEO', 'type': 'Organization'},\n",
      "                    {'name': 'OpenAI', 'type': 'Organization'},\n",
      "                    {'name': '2019', 'type': 'DateTime'},\n",
      "                    {'name': 'November 2023', 'type': 'DateTime'}]}\n"
     ]
    }
   ],
   "source": [
    "pprint.pprint(json.loads(completion.choices[0].message.content), indent=4)"
   ]
  }
 ],
 "metadata": {
  "kernelspec": {
   "display_name": "structured-outputs",
   "language": "python",
   "name": "python3"
  },
  "language_info": {
   "codemirror_mode": {
    "name": "ipython",
    "version": 3
   },
   "file_extension": ".py",
   "mimetype": "text/x-python",
   "name": "python",
   "nbconvert_exporter": "python",
   "pygments_lexer": "ipython3",
   "version": "3.12.4"
  }
 },
 "nbformat": 4,
 "nbformat_minor": 2
}
